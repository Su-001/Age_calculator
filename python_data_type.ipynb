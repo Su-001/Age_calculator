{
  "nbformat": 4,
  "nbformat_minor": 0,
  "metadata": {
    "colab": {
      "provenance": [],
      "authorship_tag": "ABX9TyPBR62DUfArU/aL0LFPbOTo",
      "include_colab_link": true
    },
    "kernelspec": {
      "name": "python3",
      "display_name": "Python 3"
    },
    "language_info": {
      "name": "python"
    }
  },
  "cells": [
    {
      "cell_type": "markdown",
      "metadata": {
        "id": "view-in-github",
        "colab_type": "text"
      },
      "source": [
        "<a href=\"https://colab.research.google.com/github/Su-001/Age_calculator/blob/main/python_data_type.ipynb\" target=\"_parent\"><img src=\"https://colab.research.google.com/assets/colab-badge.svg\" alt=\"Open In Colab\"/></a>"
      ]
    },
    {
      "cell_type": "code",
      "execution_count": null,
      "metadata": {
        "id": "ZYb9r_BTsFvR"
      },
      "outputs": [],
      "source": [
        "#Data type :\n",
        " ##interger\n",
        " ## float\n",
        " ## complex\n",
        " ##boolean"
      ]
    },
    {
      "cell_type": "code",
      "source": [
        "## complex = real + imaginary part\n",
        "##             x  + yi\n",
        "## note -> i = j, we use j intead of i"
      ],
      "metadata": {
        "id": "KeRBS50esUtS"
      },
      "execution_count": null,
      "outputs": []
    },
    {
      "cell_type": "code",
      "source": [
        "a1 = 10+1j\n",
        "a1"
      ],
      "metadata": {
        "colab": {
          "base_uri": "https://localhost:8080/"
        },
        "id": "VtbuuDZhti1V",
        "outputId": "819f7c55-04bb-43b4-c25b-47d137d4334c"
      },
      "execution_count": 1,
      "outputs": [
        {
          "output_type": "execute_result",
          "data": {
            "text/plain": [
              "(10+1j)"
            ]
          },
          "metadata": {},
          "execution_count": 1
        }
      ]
    },
    {
      "cell_type": "code",
      "source": [
        "a1.real"
      ],
      "metadata": {
        "colab": {
          "base_uri": "https://localhost:8080/"
        },
        "id": "4QDVvviMuWSE",
        "outputId": "d82e6c78-cfa5-460b-dd9d-0cd880483a59"
      },
      "execution_count": 3,
      "outputs": [
        {
          "output_type": "execute_result",
          "data": {
            "text/plain": [
              "10.0"
            ]
          },
          "metadata": {},
          "execution_count": 3
        }
      ]
    },
    {
      "cell_type": "code",
      "source": [
        "a1.imag"
      ],
      "metadata": {
        "colab": {
          "base_uri": "https://localhost:8080/"
        },
        "id": "f_fLgra6uekn",
        "outputId": "24eeb8a6-0518-47d1-9c08-58fec42867e1"
      },
      "execution_count": 4,
      "outputs": [
        {
          "output_type": "execute_result",
          "data": {
            "text/plain": [
              "1.0"
            ]
          },
          "metadata": {},
          "execution_count": 4
        }
      ]
    },
    {
      "cell_type": "code",
      "source": [
        "## boolean data type :\n",
        "## works = > condition\n",
        "## two keywords = > true and false\n",
        "## type : bool"
      ],
      "metadata": {
        "id": "nV_8klK9uhgx"
      },
      "execution_count": null,
      "outputs": []
    },
    {
      "cell_type": "code",
      "source": [
        "10>5"
      ],
      "metadata": {
        "colab": {
          "base_uri": "https://localhost:8080/"
        },
        "id": "3GJwhEsmu_nz",
        "outputId": "2caf1fd4-2527-456d-b4a2-bd7a89e40bff"
      },
      "execution_count": 5,
      "outputs": [
        {
          "output_type": "execute_result",
          "data": {
            "text/plain": [
              "True"
            ]
          },
          "metadata": {},
          "execution_count": 5
        }
      ]
    },
    {
      "cell_type": "code",
      "source": [
        "type(10>5)\n",
        "#type(true)\n",
        "# bool"
      ],
      "metadata": {
        "colab": {
          "base_uri": "https://localhost:8080/"
        },
        "id": "X7FZrHIVvCFy",
        "outputId": "87d87e16-1b9f-42cc-90e8-aa5c09f63aab"
      },
      "execution_count": 6,
      "outputs": [
        {
          "output_type": "execute_result",
          "data": {
            "text/plain": [
              "bool"
            ]
          },
          "metadata": {},
          "execution_count": 6
        }
      ]
    },
    {
      "cell_type": "code",
      "source": [
        "a = 5\n",
        "if(a>3):\n",
        "  print(\"a is greater than 3\")\n",
        "\n"
      ],
      "metadata": {
        "colab": {
          "base_uri": "https://localhost:8080/"
        },
        "id": "vYQhiEbsvNyI",
        "outputId": "d7d4315f-70b9-4094-af7b-7a25ae1997fd"
      },
      "execution_count": 9,
      "outputs": [
        {
          "output_type": "stream",
          "name": "stdout",
          "text": [
            "a is greater than 3\n"
          ]
        }
      ]
    },
    {
      "cell_type": "code",
      "source": [
        "## input() :\n",
        "  ## it takes input/data from user.\n",
        "  ## it takes data but convert into string data type."
      ],
      "metadata": {
        "id": "2fT2pZklxsuB"
      },
      "execution_count": null,
      "outputs": []
    },
    {
      "cell_type": "code",
      "source": [
        "name = input(\"enter name : \")\n",
        "print(\"my name is : \",name)"
      ],
      "metadata": {
        "colab": {
          "base_uri": "https://localhost:8080/"
        },
        "id": "D-TNDRqwyDIS",
        "outputId": "a5333073-0cd0-4fa2-f45a-62ef3464c176"
      },
      "execution_count": 10,
      "outputs": [
        {
          "output_type": "stream",
          "name": "stdout",
          "text": [
            "enter name : suhani\n",
            "my name is :  suhani\n"
          ]
        }
      ]
    },
    {
      "cell_type": "code",
      "source": [
        "type(name)"
      ],
      "metadata": {
        "colab": {
          "base_uri": "https://localhost:8080/"
        },
        "id": "YlqfU5zZyUNs",
        "outputId": "504bad50-9bd2-46b0-b2b1-a18a9af12211"
      },
      "execution_count": 11,
      "outputs": [
        {
          "output_type": "execute_result",
          "data": {
            "text/plain": [
              "str"
            ]
          },
          "metadata": {},
          "execution_count": 11
        }
      ]
    },
    {
      "cell_type": "code",
      "source": [
        "a1 = input(\"enter a number :\")\n",
        "a2 = input(\"enter another number :\")\n",
        "add = print(a1+a2)"
      ],
      "metadata": {
        "colab": {
          "base_uri": "https://localhost:8080/"
        },
        "id": "rguJZUFLyXjp",
        "outputId": "bb816ff5-8622-46a4-9336-b6fe28923575"
      },
      "execution_count": 14,
      "outputs": [
        {
          "output_type": "stream",
          "name": "stdout",
          "text": [
            "enter a number :3\n",
            "enter another number :2\n",
            "32\n"
          ]
        }
      ]
    },
    {
      "cell_type": "code",
      "source": [
        "# age calculator\n",
        "\n",
        "born_year = int(input(\"Enter your born year :\"))\n",
        "current_year = int(input(\"Enter current year : \"))\n",
        "age = print(\"Your age is \", current_year-born_year)\n",
        "\n"
      ],
      "metadata": {
        "colab": {
          "base_uri": "https://localhost:8080/"
        },
        "id": "GbOLA1bmzlY9",
        "outputId": "a3173284-04b8-42f4-f306-7b150e16db88"
      },
      "execution_count": 1,
      "outputs": [
        {
          "output_type": "stream",
          "name": "stdout",
          "text": [
            "Enter your born year :2002\n",
            "Enter current year : 2023\n",
            "Your age is  21\n"
          ]
        }
      ]
    },
    {
      "cell_type": "code",
      "source": [
        "#BMI Calculator\n",
        "weight = float(input(\"Enter your weight(in kg) : \"))\n",
        "height = float(input(\"enter your height(in meters) :\"))\n",
        "print(\"Your BMI is \",weight/height**2)\n"
      ],
      "metadata": {
        "colab": {
          "base_uri": "https://localhost:8080/"
        },
        "id": "gB3SwZDA0j5a",
        "outputId": "e9fddf62-8801-4977-fa24-143d05c26d3b"
      },
      "execution_count": 1,
      "outputs": [
        {
          "output_type": "stream",
          "name": "stdout",
          "text": [
            "Enter your weight(in kg) : 45\n",
            "enter your height(in meters) :1.58\n",
            "Your BMI is  18.02595737862522\n"
          ]
        }
      ]
    },
    {
      "cell_type": "code",
      "source": [
        "## KM to meter\n",
        "km = int(input(\"enter distance (in KM) :\"))\n",
        "print(km*1000)\n"
      ],
      "metadata": {
        "colab": {
          "base_uri": "https://localhost:8080/"
        },
        "id": "vCMaVRSJ11OZ",
        "outputId": "d8e3833c-d8f6-478a-db6b-3a8cb62af819"
      },
      "execution_count": 4,
      "outputs": [
        {
          "output_type": "stream",
          "name": "stdout",
          "text": [
            "enter distance (in KM) :1\n",
            "1000\n"
          ]
        }
      ]
    },
    {
      "cell_type": "code",
      "source": [
        "#currency converter INT to US dollar\n",
        "INR = int(input(\"Enter your currency(in INR) :\"))\n",
        "print(INR*0.012 )\n"
      ],
      "metadata": {
        "colab": {
          "base_uri": "https://localhost:8080/"
        },
        "id": "6HbPA4xoBrDO",
        "outputId": "9fdb59a6-e919-4574-e7a6-a9a3cec0c73e"
      },
      "execution_count": 5,
      "outputs": [
        {
          "output_type": "stream",
          "name": "stdout",
          "text": [
            "Enter your currency(in INR) :10\n",
            "0.12\n"
          ]
        }
      ]
    }
  ]
}