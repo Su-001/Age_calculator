{
 "cells": [
  {
   "cell_type": "code",
   "execution_count": 2,
   "id": "118509fb",
   "metadata": {},
   "outputs": [
    {
     "name": "stdout",
     "output_type": "stream",
     "text": [
      "enter the birth year :2001\n",
      "enter the current year :2022\n",
      "enter your name :Suhani\n",
      "Suhani is 21 years old\n"
     ]
    }
   ],
   "source": [
    "a = int(input(\"enter the birth year :\"))\n",
    "b = int(input(\"enter the current year :\"))\n",
    "c = input(\"enter your name :\")\n",
    "\n",
    "print(c, \"is\", b-a, \"years old\")"
   ]
  },
  {
   "cell_type": "code",
   "execution_count": null,
   "id": "f062d066",
   "metadata": {},
   "outputs": [],
   "source": []
  }
 ],
 "metadata": {
  "kernelspec": {
   "display_name": "Python 3 (ipykernel)",
   "language": "python",
   "name": "python3"
  },
  "language_info": {
   "codemirror_mode": {
    "name": "ipython",
    "version": 3
   },
   "file_extension": ".py",
   "mimetype": "text/x-python",
   "name": "python",
   "nbconvert_exporter": "python",
   "pygments_lexer": "ipython3",
   "version": "3.9.12"
  }
 },
 "nbformat": 4,
 "nbformat_minor": 5
}
